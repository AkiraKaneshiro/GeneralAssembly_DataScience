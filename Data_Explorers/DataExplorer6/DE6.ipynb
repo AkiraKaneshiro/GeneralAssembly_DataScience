{
 "metadata": {
  "name": "DataExplor6_Gordon"
 },
 "nbformat": 3,
 "nbformat_minor": 0,
 "worksheets": [
  {
   "cells": [
    {
     "cell_type": "code",
     "collapsed": false,
     "input": "import os\nimport pandas as pd\nimport numpy as np\nfrom sklearn.naive_bayes import MultinomialNB\nfrom sklearn.naive_bayes import BernoulliNB\nfrom sklearn.linear_model import LogisticRegression, LinearRegression, Ridge, Lasso\n\nfrom matplotlib import pyplot as plt\nfrom sklearn.metrics import confusion_matrix as sk_confusion_matrix\nfrom sklearn.metrics import roc_curve, auc\n\nfrom sklearn.cross_validation import KFold\nfrom sklearn.cross_validation import train_test_split\nfrom sklearn.cross_validation import cross_val_score\n\nfrom sklearn import cross_validation\nfrom sklearn.metrics import mean_squared_error\nfrom sklearn.feature_selection import f_regression\n\nfrom bs4 import BeautifulSoup\nimport urllib2",
     "language": "python",
     "metadata": {},
     "outputs": [],
     "prompt_number": 1
    },
    {
     "cell_type": "markdown",
     "metadata": {},
     "source": "Test a model to predict shows from the\n80's. From year 1987. Are there issues with using a standard KFold if testing a model from only one\nyear? Develop a multi-class model for classifying shows into each decade. Is there another way\nbesides date that the data can be grouped?"
    },
    {
     "cell_type": "code",
     "collapsed": false,
     "input": "cd fall_2014_lessons/dataexplor06\n",
     "language": "python",
     "metadata": {},
     "outputs": [
      {
       "output_type": "stream",
       "stream": "stdout",
       "text": "/home/ubuntu/notebooks/fall_2014_lessons/dataexplor06\n"
      }
     ],
     "prompt_number": 2
    },
    {
     "cell_type": "code",
     "collapsed": false,
     "input": "df = pd.read_csv('GDsetlists.csv',\",\")\n#header_row = ['age', 'sex', 'bmi', 'av_blood_pressure', 'bloodserum01', 'bloodserum02', 'bloodserum03', 'bloodserum04', 'bloodserum05', 'bloodserum06','y']\n#df.columns =  header_row\nprint type(df)\nprint df[\"Addams Family\"].head()",
     "language": "python",
     "metadata": {},
     "outputs": [
      {
       "output_type": "stream",
       "stream": "stdout",
       "text": "<class 'pandas.core.frame.DataFrame'>\n0    False\n1    False\n2    False\n3    False\n4    False\nName: Addams Family, dtype: bool\n"
      },
      {
       "output_type": "stream",
       "stream": "stderr",
       "text": "/usr/lib/python2.7/dist-packages/pandas/core/common.py:206: DeprecationWarning: numpy boolean negative (the unary `-` operator) is deprecated, use the bitwise_xor (the `^` operator) or the logical_xor function instead.\n  return -res\n"
      }
     ],
     "prompt_number": 3
    },
    {
     "cell_type": "code",
     "collapsed": false,
     "input": "print len(df.columns)\nprint(len(df))",
     "language": "python",
     "metadata": {},
     "outputs": [
      {
       "output_type": "stream",
       "stream": "stdout",
       "text": "433\n1389\n"
      }
     ],
     "prompt_number": 4
    },
    {
     "cell_type": "markdown",
     "metadata": {},
     "source": "An attempt at web scraping that was ultimately cut short."
    },
    {
     "cell_type": "code",
     "collapsed": false,
     "input": "url = \"http://www.cs.cmu.edu/~./gdead/setlists.html\"\ncontent = urllib2.urlopen(url).read()\nsoup = BeautifulSoup(content)\n\n#print soup.prettify()\n\n#title\nprint soup.title.string",
     "language": "python",
     "metadata": {},
     "outputs": [
      {
       "output_type": "stream",
       "stream": "stdout",
       "text": "Grateful Dead Setlists\n"
      }
     ],
     "prompt_number": 5
    },
    {
     "cell_type": "code",
     "collapsed": false,
     "input": "years = []\n\n#print all the links\nfor link in soup.find_all('a'):\n#    print(link.get('href'))\n    years.append(link.get('href'))\n    \nyears = years[4:]\n    \nprint years\n    \n#url2 = len(soup.find_all('a'))\n    \n#get all the text\n#print(soup.get_text())",
     "language": "python",
     "metadata": {},
     "outputs": [
      {
       "output_type": "stream",
       "stream": "stdout",
       "text": "['95.html', '94.html', '93.html', '92.html', '91.html', '90.html', '89.html', '88.html', '87.html', '86.html', '85.html', '84.html', '83.html', '82.html', '81.html', '80.html', '79.html', '78.html', '77.html', '76.html', '75.html', '74.html', '73.html', '72.html']\n"
      }
     ],
     "prompt_number": 7
    },
    {
     "cell_type": "code",
     "collapsed": false,
     "input": "#print url.find('set')\nurl_trun = url[:31]\n#print url\n#print url_trun\n\nfor i in range(len(years)):\n    years[i]=url_trun+years[i]\n    print years[i]",
     "language": "python",
     "metadata": {},
     "outputs": [
      {
       "output_type": "stream",
       "stream": "stdout",
       "text": "http://www.cs.cmu.edu/~./gdead/95.html\nhttp://www.cs.cmu.edu/~./gdead/94.html\nhttp://www.cs.cmu.edu/~./gdead/93.html\nhttp://www.cs.cmu.edu/~./gdead/92.html\nhttp://www.cs.cmu.edu/~./gdead/91.html\nhttp://www.cs.cmu.edu/~./gdead/90.html\nhttp://www.cs.cmu.edu/~./gdead/89.html\nhttp://www.cs.cmu.edu/~./gdead/88.html\nhttp://www.cs.cmu.edu/~./gdead/87.html\nhttp://www.cs.cmu.edu/~./gdead/86.html\nhttp://www.cs.cmu.edu/~./gdead/85.html\nhttp://www.cs.cmu.edu/~./gdead/84.html\nhttp://www.cs.cmu.edu/~./gdead/83.html\nhttp://www.cs.cmu.edu/~./gdead/82.html\nhttp://www.cs.cmu.edu/~./gdead/81.html\nhttp://www.cs.cmu.edu/~./gdead/80.html\nhttp://www.cs.cmu.edu/~./gdead/79.html\nhttp://www.cs.cmu.edu/~./gdead/78.html\nhttp://www.cs.cmu.edu/~./gdead/77.html\nhttp://www.cs.cmu.edu/~./gdead/76.html\nhttp://www.cs.cmu.edu/~./gdead/75.html\nhttp://www.cs.cmu.edu/~./gdead/74.html\nhttp://www.cs.cmu.edu/~./gdead/73.html\nhttp://www.cs.cmu.edu/~./gdead/72.html\n"
      }
     ],
     "prompt_number": 8
    },
    {
     "cell_type": "code",
     "collapsed": false,
     "input": "url2 = years[0]\ncontent2 = urllib2.urlopen(url2).read()\nsoup2 = BeautifulSoup(content2)\n\n#title\nprint soup2.title.string",
     "language": "python",
     "metadata": {},
     "outputs": [
      {
       "output_type": "stream",
       "stream": "stdout",
       "text": "Grateful Dead Setlists: 1995\n"
      }
     ],
     "prompt_number": 9
    },
    {
     "cell_type": "code",
     "collapsed": false,
     "input": "gigs_95 = []\n\n#print all the links\nfor link in soup2.find_all('a'):\n    #print(link.get('href'))\n    gigs_95.append(link.get('href'))\n    \n\nfor i in range(len(gigs_95)):\n    gigs_95[i]=url_trun+gigs_95[i]\n    print gigs_95[i]",
     "language": "python",
     "metadata": {},
     "outputs": [
      {
       "output_type": "stream",
       "stream": "stdout",
       "text": "http://www.cs.cmu.edu/~./gdead/dead-sets/95/2-19-95.txt\nhttp://www.cs.cmu.edu/~./gdead/dead-sets/95/2-20-95.txt\nhttp://www.cs.cmu.edu/~./gdead/dead-sets/95/2-21-95.txt\nhttp://www.cs.cmu.edu/~./gdead/dead-sets/95/2-24-95.txt\nhttp://www.cs.cmu.edu/~./gdead/dead-sets/95/2-25-95.txt\nhttp://www.cs.cmu.edu/~./gdead/dead-sets/95/2-26-95.txt\nhttp://www.cs.cmu.edu/~./gdead/dead-sets/95/3-17-95.txt\nhttp://www.cs.cmu.edu/~./gdead/dead-sets/95/3-18-95.txt\nhttp://www.cs.cmu.edu/~./gdead/dead-sets/95/3-19-95.txt\nhttp://www.cs.cmu.edu/~./gdead/dead-sets/95/3-22-95.txt\nhttp://www.cs.cmu.edu/~./gdead/dead-sets/95/3-23-95.txt\nhttp://www.cs.cmu.edu/~./gdead/dead-sets/95/3-24-95.txt\nhttp://www.cs.cmu.edu/~./gdead/dead-sets/95/3-26-95.txt\nhttp://www.cs.cmu.edu/~./gdead/dead-sets/95/3-27-95.txt\nhttp://www.cs.cmu.edu/~./gdead/dead-sets/95/3-29-95.txt\nhttp://www.cs.cmu.edu/~./gdead/dead-sets/95/3-30-95.txt\nhttp://www.cs.cmu.edu/~./gdead/dead-sets/95/4-1-95.txt\nhttp://www.cs.cmu.edu/~./gdead/dead-sets/95/4-2-95.txt\nhttp://www.cs.cmu.edu/~./gdead/dead-sets/95/4-4-95.txt\nhttp://www.cs.cmu.edu/~./gdead/dead-sets/95/4-5-95.txt\nhttp://www.cs.cmu.edu/~./gdead/dead-sets/95/4-7-95.txt\nhttp://www.cs.cmu.edu/~./gdead/dead-sets/95/5-19-95.txt\nhttp://www.cs.cmu.edu/~./gdead/dead-sets/95/5-20-95.txt\nhttp://www.cs.cmu.edu/~./gdead/dead-sets/95/5-21-95.txt\nhttp://www.cs.cmu.edu/~./gdead/dead-sets/95/5-24-95.txt\nhttp://www.cs.cmu.edu/~./gdead/dead-sets/95/5-25-95.txt\nhttp://www.cs.cmu.edu/~./gdead/dead-sets/95/5-26-95.txt\nhttp://www.cs.cmu.edu/~./gdead/dead-sets/95/5-28-95.txt\nhttp://www.cs.cmu.edu/~./gdead/dead-sets/95/5-29-95.txt\nhttp://www.cs.cmu.edu/~./gdead/dead-sets/95/6-2-95.txt\nhttp://www.cs.cmu.edu/~./gdead/dead-sets/95/6-3-95.txt\nhttp://www.cs.cmu.edu/~./gdead/dead-sets/95/6-4-95.txt\nhttp://www.cs.cmu.edu/~./gdead/dead-sets/95/6-15-95.txt\nhttp://www.cs.cmu.edu/~./gdead/dead-sets/95/6-18-95.txt\nhttp://www.cs.cmu.edu/~./gdead/dead-sets/95/6-19-95.txt\nhttp://www.cs.cmu.edu/~./gdead/dead-sets/95/6-21-95.txt\nhttp://www.cs.cmu.edu/~./gdead/dead-sets/95/6-22-95.txt\nhttp://www.cs.cmu.edu/~./gdead/dead-sets/95/6-24-95.txt\nhttp://www.cs.cmu.edu/~./gdead/dead-sets/95/6-25-95.txt\nhttp://www.cs.cmu.edu/~./gdead/dead-sets/95/6-27-95.txt\nhttp://www.cs.cmu.edu/~./gdead/dead-sets/95/6-28-95.txt\nhttp://www.cs.cmu.edu/~./gdead/dead-sets/95/6-30-95.txt\nhttp://www.cs.cmu.edu/~./gdead/dead-sets/95/7-2-95.txt\nhttp://www.cs.cmu.edu/~./gdead/dead-sets/95/7-3-95.txt\nhttp://www.cs.cmu.edu/~./gdead/dead-sets/95/7-5-95.txt\nhttp://www.cs.cmu.edu/~./gdead/dead-sets/95/7-6-95.txt\nhttp://www.cs.cmu.edu/~./gdead/dead-sets/95/7-8-95.txt\nhttp://www.cs.cmu.edu/~./gdead/dead-sets/95/7-9-95.txt\n"
      }
     ],
     "prompt_number": 11
    },
    {
     "cell_type": "code",
     "collapsed": false,
     "input": "url3 = gigs_95[0]\ncontent3 = urllib2.urlopen(url3).read()\nsoup3 = BeautifulSoup(content3)\n\nprint(soup3.get_text().split(\"\\n\"))\n#look at index function, inline method, strip string processing",
     "language": "python",
     "metadata": {},
     "outputs": [
      {
       "output_type": "stream",
       "stream": "stdout",
       "text": "[u'Delta Center, Salt Lake City, UT (Sunday, 2/19/95)', u'', u'Jack Straw', u'Sugaree', u\"Walkin' Blues\", u'Alabama Getaway', u'Me & My Uncle* ->', u'Big River*', u\"Don't Ease Me In*\", u'', u'China Cat Sunflower ->', u'I Know You Rider', u'Samson and Delilah', u'If the Shoe Fits', u'New Speedway Boogie ->', u'Estimated Prophet ->', u'Drums ->', u'Space ->', u'I Need A Miracle ->', u'Attics of my Life ->', u'Johnny B. Goode', u'', u'E: Baby Blue', u'', u'*Bobby Acoustic', u'*(first Alabama Getaway since 6/18/89)*', u'*(soundcheck included Alabama Getaway, Attics, Schoolgirl, ', u\"and It's a Man's World)*\", u'']\n"
      }
     ],
     "prompt_number": 19
    },
    {
     "cell_type": "markdown",
     "metadata": {},
     "source": "Ended the web scraping experiment."
    },
    {
     "cell_type": "code",
     "collapsed": false,
     "input": "#take shows from 78 and equally divide them into two parts. \n#get indices for 78, use random.random library to dive into 2 groups",
     "language": "python",
     "metadata": {},
     "outputs": []
    },
    {
     "cell_type": "code",
     "collapsed": false,
     "input": "df['decade'] = floor(((df['year'] - 1900)/10)*10)\n\nindex_70s = []\n\nfor i in range(len(df)):\n    if df['decade'][i] == 70:\n        index_70s.append(i)",
     "language": "python",
     "metadata": {},
     "outputs": [],
     "prompt_number": 5
    },
    {
     "cell_type": "code",
     "collapsed": false,
     "input": "random.shuffle(index_70s)\n\nall_sets =  set(df.index)\n\nnot_1970s = list(all_sets - set(index_70s))\n\nrandom.shuffle(not_1970s)\n\ntrain_1970s =  set(index_70s[:int(len(index_70s)/2)])\ntrain_not_1970s = set(not_1970s[:int(len(not_1970s)/2)])\n\ntrain = list(train_1970s | train_not_1970s)\ntest = list(all_sets - set(train))",
     "language": "python",
     "metadata": {},
     "outputs": [],
     "prompt_number": 6
    },
    {
     "cell_type": "code",
     "collapsed": false,
     "input": "#Naive Bayes\n\n#uses same no. of yes and no\u2019s in training\n#Kfold not good, try something else. \n\nX = df[df.columns[:-1]]\nY = df['year']\n\nxtrain, ytrain, xtest, ytest = X[train,],Y[train,],X[test,],Y[test,]\n\n# add parameters to make sure function is robust, xtrain, ytrain, xtest, ytest\ndef accuracy_report(_clf):\n    \n    print \"Accuracy: %0.2f%%\" % (100 * _clf.score(xtest, ytest))\n\n    #Print the accuracy on the test and training dataset\n    training_accuracy = _clf.score(xtrain, ytrain)\n    test_accuracy = _clf.score(xtest, ytest)\n\n    #print \"Accuracy on training data: %0.2f\" % (training_accuracy)\n    #print \"Accuracy on test data: %0.2f\" % (test_accuracy)\n    \n    return test_accuracy\n\n\nresults = {}\nmulti = []\nbinom = []\nlog_reg = []\n\n#This is a simple implementation of a 1-Fold\n\nfor i in range(1):    \n    \n    clf_mn2 = MultinomialNB().fit(xtrain, ytrain)\n    clf_b2 = BernoulliNB().fit(xtrain, ytrain)\n    clf_lr2 = LogisticRegression().fit(xtrain, ytrain)\n\n    multi.append(accuracy_report(clf_mn2))\n    binom.append(accuracy_report(clf_b2))\n    log_reg.append(accuracy_report(clf_lr2))\n    \n#results['Multinomial'] = multi\n#results['Binomial'] = binom\n#results['Logistic'] = log_reg",
     "language": "python",
     "metadata": {},
     "outputs": [
      {
       "ename": "TypeError",
       "evalue": "unhashable type: 'list'",
       "output_type": "pyerr",
       "traceback": [
        "\u001b[0;31m---------------------------------------------------------------------------\u001b[0m\n\u001b[0;31mTypeError\u001b[0m                                 Traceback (most recent call last)",
        "\u001b[0;32m<ipython-input-7-58ec75fa3173>\u001b[0m in \u001b[0;36m<module>\u001b[0;34m()\u001b[0m\n\u001b[1;32m      7\u001b[0m \u001b[0mY\u001b[0m \u001b[0;34m=\u001b[0m \u001b[0mdf\u001b[0m\u001b[0;34m[\u001b[0m\u001b[0;34m'year'\u001b[0m\u001b[0;34m]\u001b[0m\u001b[0;34m\u001b[0m\u001b[0m\n\u001b[1;32m      8\u001b[0m \u001b[0;34m\u001b[0m\u001b[0m\n\u001b[0;32m----> 9\u001b[0;31m \u001b[0mxtrain\u001b[0m\u001b[0;34m,\u001b[0m \u001b[0mytrain\u001b[0m\u001b[0;34m,\u001b[0m \u001b[0mxtest\u001b[0m\u001b[0;34m,\u001b[0m \u001b[0mytest\u001b[0m \u001b[0;34m=\u001b[0m \u001b[0mX\u001b[0m\u001b[0;34m[\u001b[0m\u001b[0mtrain\u001b[0m\u001b[0;34m,\u001b[0m\u001b[0;34m]\u001b[0m\u001b[0;34m,\u001b[0m\u001b[0mY\u001b[0m\u001b[0;34m[\u001b[0m\u001b[0mtrain\u001b[0m\u001b[0;34m,\u001b[0m\u001b[0;34m]\u001b[0m\u001b[0;34m,\u001b[0m\u001b[0mX\u001b[0m\u001b[0;34m[\u001b[0m\u001b[0mtest\u001b[0m\u001b[0;34m,\u001b[0m\u001b[0;34m]\u001b[0m\u001b[0;34m,\u001b[0m\u001b[0mY\u001b[0m\u001b[0;34m[\u001b[0m\u001b[0mtest\u001b[0m\u001b[0;34m,\u001b[0m\u001b[0;34m]\u001b[0m\u001b[0;34m\u001b[0m\u001b[0m\n\u001b[0m\u001b[1;32m     10\u001b[0m \u001b[0;34m\u001b[0m\u001b[0m\n\u001b[1;32m     11\u001b[0m \u001b[0;31m# add parameters to make sure function is robust, xtrain, ytrain, xtest, ytest\u001b[0m\u001b[0;34m\u001b[0m\u001b[0;34m\u001b[0m\u001b[0m\n",
        "\u001b[0;32m/usr/lib/python2.7/dist-packages/pandas/core/frame.pyc\u001b[0m in \u001b[0;36m__getitem__\u001b[0;34m(self, key)\u001b[0m\n\u001b[1;32m   2001\u001b[0m             \u001b[0;31m# get column\u001b[0m\u001b[0;34m\u001b[0m\u001b[0;34m\u001b[0m\u001b[0m\n\u001b[1;32m   2002\u001b[0m             \u001b[0;32mif\u001b[0m \u001b[0mself\u001b[0m\u001b[0;34m.\u001b[0m\u001b[0mcolumns\u001b[0m\u001b[0;34m.\u001b[0m\u001b[0mis_unique\u001b[0m\u001b[0;34m:\u001b[0m\u001b[0;34m\u001b[0m\u001b[0m\n\u001b[0;32m-> 2003\u001b[0;31m                 \u001b[0;32mreturn\u001b[0m \u001b[0mself\u001b[0m\u001b[0;34m.\u001b[0m\u001b[0m_get_item_cache\u001b[0m\u001b[0;34m(\u001b[0m\u001b[0mkey\u001b[0m\u001b[0;34m)\u001b[0m\u001b[0;34m\u001b[0m\u001b[0m\n\u001b[0m\u001b[1;32m   2004\u001b[0m \u001b[0;34m\u001b[0m\u001b[0m\n\u001b[1;32m   2005\u001b[0m             \u001b[0;31m# duplicate columns\u001b[0m\u001b[0;34m\u001b[0m\u001b[0;34m\u001b[0m\u001b[0m\n",
        "\u001b[0;32m/usr/lib/python2.7/dist-packages/pandas/core/generic.pyc\u001b[0m in \u001b[0;36m_get_item_cache\u001b[0;34m(self, item)\u001b[0m\n\u001b[1;32m    665\u001b[0m             \u001b[0;32mreturn\u001b[0m \u001b[0mcache\u001b[0m\u001b[0;34m[\u001b[0m\u001b[0mitem\u001b[0m\u001b[0;34m]\u001b[0m\u001b[0;34m\u001b[0m\u001b[0m\n\u001b[1;32m    666\u001b[0m         \u001b[0;32mexcept\u001b[0m \u001b[0mException\u001b[0m\u001b[0;34m:\u001b[0m\u001b[0;34m\u001b[0m\u001b[0m\n\u001b[0;32m--> 667\u001b[0;31m             \u001b[0mvalues\u001b[0m \u001b[0;34m=\u001b[0m \u001b[0mself\u001b[0m\u001b[0;34m.\u001b[0m\u001b[0m_data\u001b[0m\u001b[0;34m.\u001b[0m\u001b[0mget\u001b[0m\u001b[0;34m(\u001b[0m\u001b[0mitem\u001b[0m\u001b[0;34m)\u001b[0m\u001b[0;34m\u001b[0m\u001b[0m\n\u001b[0m\u001b[1;32m    668\u001b[0m             \u001b[0mres\u001b[0m \u001b[0;34m=\u001b[0m \u001b[0mself\u001b[0m\u001b[0;34m.\u001b[0m\u001b[0m_box_item_values\u001b[0m\u001b[0;34m(\u001b[0m\u001b[0mitem\u001b[0m\u001b[0;34m,\u001b[0m \u001b[0mvalues\u001b[0m\u001b[0;34m)\u001b[0m\u001b[0;34m\u001b[0m\u001b[0m\n\u001b[1;32m    669\u001b[0m             \u001b[0mcache\u001b[0m\u001b[0;34m[\u001b[0m\u001b[0mitem\u001b[0m\u001b[0;34m]\u001b[0m \u001b[0;34m=\u001b[0m \u001b[0mres\u001b[0m\u001b[0;34m\u001b[0m\u001b[0m\n",
        "\u001b[0;32m/usr/lib/python2.7/dist-packages/pandas/core/internals.pyc\u001b[0m in \u001b[0;36mget\u001b[0;34m(self, item)\u001b[0m\n\u001b[1;32m   1653\u001b[0m     \u001b[0;32mdef\u001b[0m \u001b[0mget\u001b[0m\u001b[0;34m(\u001b[0m\u001b[0mself\u001b[0m\u001b[0;34m,\u001b[0m \u001b[0mitem\u001b[0m\u001b[0;34m)\u001b[0m\u001b[0;34m:\u001b[0m\u001b[0;34m\u001b[0m\u001b[0m\n\u001b[1;32m   1654\u001b[0m         \u001b[0;32mif\u001b[0m \u001b[0mself\u001b[0m\u001b[0;34m.\u001b[0m\u001b[0mitems\u001b[0m\u001b[0;34m.\u001b[0m\u001b[0mis_unique\u001b[0m\u001b[0;34m:\u001b[0m\u001b[0;34m\u001b[0m\u001b[0m\n\u001b[0;32m-> 1655\u001b[0;31m             \u001b[0m_\u001b[0m\u001b[0;34m,\u001b[0m \u001b[0mblock\u001b[0m \u001b[0;34m=\u001b[0m \u001b[0mself\u001b[0m\u001b[0;34m.\u001b[0m\u001b[0m_find_block\u001b[0m\u001b[0;34m(\u001b[0m\u001b[0mitem\u001b[0m\u001b[0;34m)\u001b[0m\u001b[0;34m\u001b[0m\u001b[0m\n\u001b[0m\u001b[1;32m   1656\u001b[0m             \u001b[0;32mreturn\u001b[0m \u001b[0mblock\u001b[0m\u001b[0;34m.\u001b[0m\u001b[0mget\u001b[0m\u001b[0;34m(\u001b[0m\u001b[0mitem\u001b[0m\u001b[0;34m)\u001b[0m\u001b[0;34m\u001b[0m\u001b[0m\n\u001b[1;32m   1657\u001b[0m         \u001b[0;32melse\u001b[0m\u001b[0;34m:\u001b[0m\u001b[0;34m\u001b[0m\u001b[0m\n",
        "\u001b[0;32m/usr/lib/python2.7/dist-packages/pandas/core/internals.pyc\u001b[0m in \u001b[0;36m_find_block\u001b[0;34m(self, item)\u001b[0m\n\u001b[1;32m   1933\u001b[0m \u001b[0;34m\u001b[0m\u001b[0m\n\u001b[1;32m   1934\u001b[0m     \u001b[0;32mdef\u001b[0m \u001b[0m_find_block\u001b[0m\u001b[0;34m(\u001b[0m\u001b[0mself\u001b[0m\u001b[0;34m,\u001b[0m \u001b[0mitem\u001b[0m\u001b[0;34m)\u001b[0m\u001b[0;34m:\u001b[0m\u001b[0;34m\u001b[0m\u001b[0m\n\u001b[0;32m-> 1935\u001b[0;31m         \u001b[0mself\u001b[0m\u001b[0;34m.\u001b[0m\u001b[0m_check_have\u001b[0m\u001b[0;34m(\u001b[0m\u001b[0mitem\u001b[0m\u001b[0;34m)\u001b[0m\u001b[0;34m\u001b[0m\u001b[0m\n\u001b[0m\u001b[1;32m   1936\u001b[0m         \u001b[0;32mfor\u001b[0m \u001b[0mi\u001b[0m\u001b[0;34m,\u001b[0m \u001b[0mblock\u001b[0m \u001b[0;32min\u001b[0m \u001b[0menumerate\u001b[0m\u001b[0;34m(\u001b[0m\u001b[0mself\u001b[0m\u001b[0;34m.\u001b[0m\u001b[0mblocks\u001b[0m\u001b[0;34m)\u001b[0m\u001b[0;34m:\u001b[0m\u001b[0;34m\u001b[0m\u001b[0m\n\u001b[1;32m   1937\u001b[0m             \u001b[0;32mif\u001b[0m \u001b[0mitem\u001b[0m \u001b[0;32min\u001b[0m \u001b[0mblock\u001b[0m\u001b[0;34m:\u001b[0m\u001b[0;34m\u001b[0m\u001b[0m\n",
        "\u001b[0;32m/usr/lib/python2.7/dist-packages/pandas/core/internals.pyc\u001b[0m in \u001b[0;36m_check_have\u001b[0;34m(self, item)\u001b[0m\n\u001b[1;32m   1939\u001b[0m \u001b[0;34m\u001b[0m\u001b[0m\n\u001b[1;32m   1940\u001b[0m     \u001b[0;32mdef\u001b[0m \u001b[0m_check_have\u001b[0m\u001b[0;34m(\u001b[0m\u001b[0mself\u001b[0m\u001b[0;34m,\u001b[0m \u001b[0mitem\u001b[0m\u001b[0;34m)\u001b[0m\u001b[0;34m:\u001b[0m\u001b[0;34m\u001b[0m\u001b[0m\n\u001b[0;32m-> 1941\u001b[0;31m         \u001b[0;32mif\u001b[0m \u001b[0mitem\u001b[0m \u001b[0;32mnot\u001b[0m \u001b[0;32min\u001b[0m \u001b[0mself\u001b[0m\u001b[0;34m.\u001b[0m\u001b[0mitems\u001b[0m\u001b[0;34m:\u001b[0m\u001b[0;34m\u001b[0m\u001b[0m\n\u001b[0m\u001b[1;32m   1942\u001b[0m             \u001b[0;32mraise\u001b[0m \u001b[0mKeyError\u001b[0m\u001b[0;34m(\u001b[0m\u001b[0;34m'no item named %s'\u001b[0m \u001b[0;34m%\u001b[0m \u001b[0mcom\u001b[0m\u001b[0;34m.\u001b[0m\u001b[0mpprint_thing\u001b[0m\u001b[0;34m(\u001b[0m\u001b[0mitem\u001b[0m\u001b[0;34m)\u001b[0m\u001b[0;34m)\u001b[0m\u001b[0;34m\u001b[0m\u001b[0m\n\u001b[1;32m   1943\u001b[0m \u001b[0;34m\u001b[0m\u001b[0m\n",
        "\u001b[0;32m/usr/lib/python2.7/dist-packages/pandas/core/index.pyc\u001b[0m in \u001b[0;36m__contains__\u001b[0;34m(self, key)\u001b[0m\n\u001b[1;32m    317\u001b[0m \u001b[0;34m\u001b[0m\u001b[0m\n\u001b[1;32m    318\u001b[0m     \u001b[0;32mdef\u001b[0m \u001b[0m__contains__\u001b[0m\u001b[0;34m(\u001b[0m\u001b[0mself\u001b[0m\u001b[0;34m,\u001b[0m \u001b[0mkey\u001b[0m\u001b[0;34m)\u001b[0m\u001b[0;34m:\u001b[0m\u001b[0;34m\u001b[0m\u001b[0m\n\u001b[0;32m--> 319\u001b[0;31m         \u001b[0mhash\u001b[0m\u001b[0;34m(\u001b[0m\u001b[0mkey\u001b[0m\u001b[0;34m)\u001b[0m\u001b[0;34m\u001b[0m\u001b[0m\n\u001b[0m\u001b[1;32m    320\u001b[0m         \u001b[0;31m# work around some kind of odd cython bug\u001b[0m\u001b[0;34m\u001b[0m\u001b[0;34m\u001b[0m\u001b[0m\n\u001b[1;32m    321\u001b[0m         \u001b[0;32mtry\u001b[0m\u001b[0;34m:\u001b[0m\u001b[0;34m\u001b[0m\u001b[0m\n",
        "\u001b[0;31mTypeError\u001b[0m: unhashable type: 'list'"
       ]
      }
     ],
     "prompt_number": 7
    },
    {
     "cell_type": "code",
     "collapsed": false,
     "input": "#Data Visualization\n\nyears = df.year.unique()\n\ncounts = []\ncount = 0\n\nfor yr in years:\n    \n    for i in df.year:\n        if i == yr:\n            count =  count + 1\n            \n    counts.append(count)\n    \nprint counts\n    \ndf2 = pd.DataFrame(index=range(len(years)), columns=[\"year\",\"no_of_songs\"])\ndf2.year,df2.no_of_songs =  years, counts\n\ndf2.head()",
     "language": "python",
     "metadata": {},
     "outputs": [
      {
       "output_type": "stream",
       "stream": "stdout",
       "text": "[86, 149, 223, 299, 379, 452, 518, 572, 632, 703, 790, 877, 917, 998, 1071, 1117, 1203, 1244, 1321, 1385, 1389]\n"
      },
      {
       "output_type": "stream",
       "stream": "stderr",
       "text": "/usr/lib/python2.7/dist-packages/pandas/core/config.py:570: DeprecationWarning: height has been deprecated.\n\n  warnings.warn(d.msg, DeprecationWarning)\n/usr/lib/python2.7/dist-packages/pandas/core/config.py:570: DeprecationWarning: height has been deprecated.\n\n  warnings.warn(d.msg, DeprecationWarning)\n"
      },
      {
       "html": "<div style=\"max-height:1000px;max-width:1500px;overflow:auto;\">\n<table border=\"1\" class=\"dataframe\">\n  <thead>\n    <tr style=\"text-align: right;\">\n      <th></th>\n      <th>year</th>\n      <th>no_of_songs</th>\n    </tr>\n  </thead>\n  <tbody>\n    <tr>\n      <th>0</th>\n      <td> 1987</td>\n      <td>  86</td>\n    </tr>\n    <tr>\n      <th>1</th>\n      <td> 1982</td>\n      <td> 149</td>\n    </tr>\n    <tr>\n      <th>2</th>\n      <td> 1990</td>\n      <td> 223</td>\n    </tr>\n    <tr>\n      <th>3</th>\n      <td> 1979</td>\n      <td> 299</td>\n    </tr>\n    <tr>\n      <th>4</th>\n      <td> 1988</td>\n      <td> 379</td>\n    </tr>\n  </tbody>\n</table>\n</div>",
       "output_type": "pyout",
       "prompt_number": 11,
       "text": "   year  no_of_songs\n0  1987           86\n1  1982          149\n2  1990          223\n3  1979          299\n4  1988          379"
      }
     ],
     "prompt_number": 11
    },
    {
     "cell_type": "code",
     "collapsed": false,
     "input": "#Plot no of songs by year\n\nx = df2.year\ny = df2.no_of_songs\n\nplot(x,y,'o')",
     "language": "python",
     "metadata": {},
     "outputs": [
      {
       "output_type": "pyout",
       "prompt_number": 17,
       "text": "[<matplotlib.lines.Line2D at 0x5388a50>]"
      },
      {
       "output_type": "display_data",
       "png": "[encoded data removed]"
      }
     ],
     "prompt_number": 17
    },
    {
     "cell_type": "code",
     "collapsed": false,
     "input": "print x \n#|print y",
     "language": "python",
     "metadata": {},
     "outputs": [
      {
       "output_type": "stream",
       "stream": "stdout",
       "text": "0     1987\n1     1982\n2     1990\n3     1979\n4     1988\n5     1973\n6     1983\n7     1992\n8     1977\n9     1985\n10    1980\n11    1972\n12    1974\n13    1978\n14    1989\n15    1986\n16    1981\n17    1976\n18    1991\n19    1984\n20    1975\nName: year, dtype: int64\n"
      }
     ],
     "prompt_number": 15
    },
    {
     "cell_type": "code",
     "collapsed": false,
     "input": "plt.hist(x,y)",
     "language": "python",
     "metadata": {},
     "outputs": [
      {
       "output_type": "pyout",
       "prompt_number": 13,
       "text": "(array([0, 0, 0, 0, 0, 0, 0, 0, 0, 0, 0, 0, 0, 0, 0, 0, 0, 0, 0, 0]),\n array([  86,  149,  223,  299,  379,  452,  518,  572,  632,  703,  790,\n        877,  917,  998, 1071, 1117, 1203, 1244, 1321, 1385, 1389]),\n <a list of 20 Patch objects>)"
      },
      {
       "output_type": "display_data",
       "png": "[encoded data removed]"
      }
     ],
     "prompt_number": 13
    }
   ],
   "metadata": {}
  }
 ]
}