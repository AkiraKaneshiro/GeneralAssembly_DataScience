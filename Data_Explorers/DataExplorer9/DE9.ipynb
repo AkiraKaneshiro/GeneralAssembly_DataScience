{
 "metadata": {
  "name": "Data Explorer 9"
 },
 "nbformat": 3,
 "nbformat_minor": 0,
 "worksheets": [
  {
   "cells": [
    {
     "cell_type": "heading",
     "level": 1,
     "metadata": {},
     "source": "\nDataexplor09: A/B Testing"
    },
    {
     "cell_type": "code",
     "collapsed": false,
     "input": "import pandas as pd\nimport numpy as np",
     "language": "python",
     "metadata": {},
     "outputs": [],
     "prompt_number": 1
    },
    {
     "cell_type": "code",
     "collapsed": false,
     "input": "#pre-reading: http://engineering.richrelevance.com/bayesian-ab-tests/",
     "language": "python",
     "metadata": {},
     "outputs": [],
     "prompt_number": 2
    },
    {
     "cell_type": "code",
     "collapsed": false,
     "input": "#0 if user saw the headline and didn't click, 1 is a conversion\ndf = pd.read_csv('/home/ubuntu/notebooks/fall_2014_lessons/dataexplor09/CTR_data.csv')\ndf.head()",
     "language": "python",
     "metadata": {},
     "outputs": [
      {
       "html": "<div style=\"max-height:1000px;max-width:1500px;overflow:auto;\">\n<table border=\"1\" class=\"dataframe\">\n  <thead>\n    <tr style=\"text-align: right;\">\n      <th></th>\n      <th>Unnamed: 0</th>\n      <th>test1</th>\n      <th>test2</th>\n    </tr>\n  </thead>\n  <tbody>\n    <tr>\n      <th>0</th>\n      <td> 0</td>\n      <td> 0</td>\n      <td> 0</td>\n    </tr>\n    <tr>\n      <th>1</th>\n      <td> 1</td>\n      <td> 0</td>\n      <td> 0</td>\n    </tr>\n    <tr>\n      <th>2</th>\n      <td> 2</td>\n      <td> 0</td>\n      <td> 0</td>\n    </tr>\n    <tr>\n      <th>3</th>\n      <td> 3</td>\n      <td> 1</td>\n      <td> 0</td>\n    </tr>\n    <tr>\n      <th>4</th>\n      <td> 4</td>\n      <td> 0</td>\n      <td> 0</td>\n    </tr>\n  </tbody>\n</table>\n</div>",
       "output_type": "pyout",
       "prompt_number": 3,
       "text": "   Unnamed: 0  test1  test2\n0           0      0      0\n1           1      0      0\n2           2      0      0\n3           3      1      0\n4           4      0      0"
      }
     ],
     "prompt_number": 3
    },
    {
     "cell_type": "code",
     "collapsed": false,
     "input": "#viewsA = viewsB = length of dataframe\n\n#Example\n\nfrom numpy.random import beta as beta_dist\nimport numpy as np\n\n'''\nN_samp = 10000 # number of samples to draw\nclicks_A = 450 # insert your own data here\nviews_A = 56000\nclicks_B = 345 # ditto\nviews_B = 49000\nalpha = 1.1 \nbeta = 14.2\nA_samples = beta_dist(clicks_A+alpha, views_A-clicks_A+beta, N_samp)\nB_samples = beta_dist(clicks_B+alpha, views_B-clicks_B+beta, N_samp)\n\n#prob that A has a truly higher CTR than B\nprint np.mean(A_samples > B_samples)\n\n#prob that A has a 3% higher CTR than B\nprint np.mean( (A_samples - B_samples)/B_samples > .03 )\n'''",
     "language": "python",
     "metadata": {},
     "outputs": [
      {
       "output_type": "pyout",
       "prompt_number": 7,
       "text": "'\\nN_samp = 10000 # number of samples to draw\\nclicks_A = 450 # insert your own data here\\nviews_A = 56000\\nclicks_B = 345 # ditto\\nviews_B = 49000\\nalpha = 1.1 \\nbeta = 14.2\\nA_samples = beta_dist(clicks_A+alpha, views_A-clicks_A+beta, N_samp)\\nB_samples = beta_dist(clicks_B+alpha, views_B-clicks_B+beta, N_samp)\\n\\n#prob that A has a truly higher CTR than B\\nprint np.mean(A_samples > B_samples)\\n\\n#prob that A has a 3% higher CTR than B\\nprint np.mean( (A_samples - B_samples)/B_samples > .03 )\\n'"
      }
     ],
     "prompt_number": 7
    },
    {
     "cell_type": "code",
     "collapsed": false,
     "input": "N_samp = 10000 # number of samples to draw\nclicks_A = 1 # insert your own data here\nviews_A = 5\nclicks_B = 0 # ditto\nviews_B = 5\nalpha = 1\nbeta = 1\nA_samples = beta_dist(clicks_A+alpha, views_A-clicks_A+beta, N_samp)\nB_samples = beta_dist(clicks_B+alpha, views_B-clicks_B+beta, N_samp)\n\n#prob that A has a truly higher CTR than B\nprint np.mean(A_samples > B_samples)\n\n#prob that A has a 3% higher CTR than B\nprint np.mean( (A_samples - B_samples)/B_samples > .1 )",
     "language": "python",
     "metadata": {},
     "outputs": [
      {
       "output_type": "stream",
       "stream": "stdout",
       "text": "0.7727\n0.7442\n"
      }
     ],
     "prompt_number": 21
    },
    {
     "cell_type": "code",
     "collapsed": false,
     "input": "#QUESTION 1: What are clicks_A and clicks_B?\n\n#QUESTION 2: What is the probability that A has a 10% higher CTR than B?\n\n#QUESTION 3: How does changing alpha and beta change the value?",
     "language": "python",
     "metadata": {},
     "outputs": [],
     "prompt_number": 15
    }
   ],
   "metadata": {}
  }
 ]
}